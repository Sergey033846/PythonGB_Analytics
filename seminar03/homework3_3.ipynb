{
 "cells": [
  {
   "cell_type": "code",
   "execution_count": 9,
   "metadata": {},
   "outputs": [],
   "source": [
    "import pandas as pd"
   ]
  },
  {
   "cell_type": "code",
   "execution_count": 10,
   "metadata": {},
   "outputs": [],
   "source": [
    "df = pd.read_csv('kc_house_data.csv', encoding='windows-1251')"
   ]
  },
  {
   "cell_type": "code",
   "execution_count": 11,
   "metadata": {},
   "outputs": [
    {
     "data": {
      "text/html": [
       "<div>\n",
       "<style scoped>\n",
       "    .dataframe tbody tr th:only-of-type {\n",
       "        vertical-align: middle;\n",
       "    }\n",
       "\n",
       "    .dataframe tbody tr th {\n",
       "        vertical-align: top;\n",
       "    }\n",
       "\n",
       "    .dataframe thead th {\n",
       "        text-align: right;\n",
       "    }\n",
       "</style>\n",
       "<table border=\"1\" class=\"dataframe\">\n",
       "  <thead>\n",
       "    <tr style=\"text-align: right;\">\n",
       "      <th></th>\n",
       "      <th>Unnamed: 0</th>\n",
       "      <th>id</th>\n",
       "      <th>date</th>\n",
       "      <th>price</th>\n",
       "      <th>bedrooms</th>\n",
       "      <th>bathrooms</th>\n",
       "      <th>sqft_living</th>\n",
       "      <th>sqft_lot</th>\n",
       "      <th>floors</th>\n",
       "      <th>waterfront</th>\n",
       "      <th>...</th>\n",
       "      <th>grade</th>\n",
       "      <th>sqft_above</th>\n",
       "      <th>sqft_basement</th>\n",
       "      <th>yr_built</th>\n",
       "      <th>yr_renovated</th>\n",
       "      <th>zipcode</th>\n",
       "      <th>lat</th>\n",
       "      <th>long</th>\n",
       "      <th>sqft_living15</th>\n",
       "      <th>sqft_lot15</th>\n",
       "    </tr>\n",
       "  </thead>\n",
       "  <tbody>\n",
       "    <tr>\n",
       "      <th>0</th>\n",
       "      <td>0</td>\n",
       "      <td>7129300520</td>\n",
       "      <td>2014-10-13</td>\n",
       "      <td>221900.0</td>\n",
       "      <td>3</td>\n",
       "      <td>1.00</td>\n",
       "      <td>1180</td>\n",
       "      <td>5650</td>\n",
       "      <td>1.0</td>\n",
       "      <td>0</td>\n",
       "      <td>...</td>\n",
       "      <td>7</td>\n",
       "      <td>1180</td>\n",
       "      <td>0</td>\n",
       "      <td>1955</td>\n",
       "      <td>0</td>\n",
       "      <td>98178</td>\n",
       "      <td>47.5112</td>\n",
       "      <td>-122.257</td>\n",
       "      <td>1340</td>\n",
       "      <td>5650</td>\n",
       "    </tr>\n",
       "    <tr>\n",
       "      <th>1</th>\n",
       "      <td>1</td>\n",
       "      <td>6414100192</td>\n",
       "      <td>2014-12-09</td>\n",
       "      <td>538000.0</td>\n",
       "      <td>3</td>\n",
       "      <td>2.25</td>\n",
       "      <td>2570</td>\n",
       "      <td>7242</td>\n",
       "      <td>2.0</td>\n",
       "      <td>0</td>\n",
       "      <td>...</td>\n",
       "      <td>7</td>\n",
       "      <td>2170</td>\n",
       "      <td>400</td>\n",
       "      <td>1951</td>\n",
       "      <td>1991</td>\n",
       "      <td>98125</td>\n",
       "      <td>47.7210</td>\n",
       "      <td>-122.319</td>\n",
       "      <td>1690</td>\n",
       "      <td>7639</td>\n",
       "    </tr>\n",
       "    <tr>\n",
       "      <th>2</th>\n",
       "      <td>2</td>\n",
       "      <td>5631500400</td>\n",
       "      <td>2015-02-25</td>\n",
       "      <td>180000.0</td>\n",
       "      <td>2</td>\n",
       "      <td>1.00</td>\n",
       "      <td>770</td>\n",
       "      <td>10000</td>\n",
       "      <td>1.0</td>\n",
       "      <td>0</td>\n",
       "      <td>...</td>\n",
       "      <td>6</td>\n",
       "      <td>770</td>\n",
       "      <td>0</td>\n",
       "      <td>1933</td>\n",
       "      <td>0</td>\n",
       "      <td>98028</td>\n",
       "      <td>47.7379</td>\n",
       "      <td>-122.233</td>\n",
       "      <td>2720</td>\n",
       "      <td>8062</td>\n",
       "    </tr>\n",
       "    <tr>\n",
       "      <th>3</th>\n",
       "      <td>3</td>\n",
       "      <td>2487200875</td>\n",
       "      <td>2014-12-09</td>\n",
       "      <td>604000.0</td>\n",
       "      <td>4</td>\n",
       "      <td>3.00</td>\n",
       "      <td>1960</td>\n",
       "      <td>5000</td>\n",
       "      <td>1.0</td>\n",
       "      <td>0</td>\n",
       "      <td>...</td>\n",
       "      <td>7</td>\n",
       "      <td>1050</td>\n",
       "      <td>910</td>\n",
       "      <td>1965</td>\n",
       "      <td>0</td>\n",
       "      <td>98136</td>\n",
       "      <td>47.5208</td>\n",
       "      <td>-122.393</td>\n",
       "      <td>1360</td>\n",
       "      <td>5000</td>\n",
       "    </tr>\n",
       "    <tr>\n",
       "      <th>4</th>\n",
       "      <td>4</td>\n",
       "      <td>1954400510</td>\n",
       "      <td>2015-02-18</td>\n",
       "      <td>510000.0</td>\n",
       "      <td>3</td>\n",
       "      <td>2.00</td>\n",
       "      <td>1680</td>\n",
       "      <td>8080</td>\n",
       "      <td>1.0</td>\n",
       "      <td>0</td>\n",
       "      <td>...</td>\n",
       "      <td>8</td>\n",
       "      <td>1680</td>\n",
       "      <td>0</td>\n",
       "      <td>1987</td>\n",
       "      <td>0</td>\n",
       "      <td>98074</td>\n",
       "      <td>47.6168</td>\n",
       "      <td>-122.045</td>\n",
       "      <td>1800</td>\n",
       "      <td>7503</td>\n",
       "    </tr>\n",
       "  </tbody>\n",
       "</table>\n",
       "<p>5 rows × 22 columns</p>\n",
       "</div>"
      ],
      "text/plain": [
       "   Unnamed: 0          id        date     price  bedrooms  bathrooms  \\\n",
       "0           0  7129300520  2014-10-13  221900.0         3       1.00   \n",
       "1           1  6414100192  2014-12-09  538000.0         3       2.25   \n",
       "2           2  5631500400  2015-02-25  180000.0         2       1.00   \n",
       "3           3  2487200875  2014-12-09  604000.0         4       3.00   \n",
       "4           4  1954400510  2015-02-18  510000.0         3       2.00   \n",
       "\n",
       "   sqft_living  sqft_lot  floors  waterfront  ...  grade  sqft_above  \\\n",
       "0         1180      5650     1.0           0  ...      7        1180   \n",
       "1         2570      7242     2.0           0  ...      7        2170   \n",
       "2          770     10000     1.0           0  ...      6         770   \n",
       "3         1960      5000     1.0           0  ...      7        1050   \n",
       "4         1680      8080     1.0           0  ...      8        1680   \n",
       "\n",
       "   sqft_basement  yr_built  yr_renovated  zipcode      lat     long  \\\n",
       "0              0      1955             0    98178  47.5112 -122.257   \n",
       "1            400      1951          1991    98125  47.7210 -122.319   \n",
       "2              0      1933             0    98028  47.7379 -122.233   \n",
       "3            910      1965             0    98136  47.5208 -122.393   \n",
       "4              0      1987             0    98074  47.6168 -122.045   \n",
       "\n",
       "   sqft_living15  sqft_lot15  \n",
       "0           1340        5650  \n",
       "1           1690        7639  \n",
       "2           2720        8062  \n",
       "3           1360        5000  \n",
       "4           1800        7503  \n",
       "\n",
       "[5 rows x 22 columns]"
      ]
     },
     "execution_count": 11,
     "metadata": {},
     "output_type": "execute_result"
    }
   ],
   "source": [
    "df.head()"
   ]
  },
  {
   "cell_type": "code",
   "execution_count": 106,
   "metadata": {},
   "outputs": [
    {
     "name": "stdout",
     "output_type": "stream",
     "text": [
      "                 price\n",
      "bedrooms              \n",
      "1         3.176429e+05\n",
      "2         4.013727e+05\n",
      "0         4.095038e+05\n",
      "3         4.662321e+05\n",
      "11        5.200000e+05\n",
      "4         6.354195e+05\n",
      "33        6.400000e+05\n",
      "5         7.865998e+05\n",
      "10        8.193333e+05\n",
      "6         8.255206e+05\n",
      "9         8.939998e+05\n",
      "7         9.511847e+05\n",
      "8         1.105077e+06\n"
     ]
    }
   ],
   "source": [
    "# 1 среднюю стоимость домов в зависимости от количества спален и сохраните в avg\n",
    "avg = df.pivot_table(index='bedrooms', columns=[], values='price', aggfunc='mean').sort_values(by='price')\n",
    "print(avg)"
   ]
  },
  {
   "cell_type": "code",
   "execution_count": 73,
   "metadata": {},
   "outputs": [
    {
     "name": "stdout",
     "output_type": "stream",
     "text": [
      "              price                          \n",
      "                min           mean        max\n",
      "condition                                    \n",
      "1           78000.0  334431.666667  1500000.0\n",
      "2           80000.0  327287.145349  2555000.0\n",
      "3           75000.0  542012.578148  7062500.0\n",
      "4           89000.0  521200.390033  7700000.0\n",
      "5          110000.0  612418.089359  3650000.0\n"
     ]
    }
   ],
   "source": [
    "# 2 Найдите минимальную min, среднюю mean и максимальную max стоимости домов в зависимости от состояния дома и сохраните в price.\n",
    "price = df.groupby('condition').agg({'price': ['min', 'mean', 'max']})\n",
    "print(price)"
   ]
  },
  {
   "cell_type": "code",
   "execution_count": 78,
   "metadata": {},
   "outputs": [
    {
     "name": "stdout",
     "output_type": "stream",
     "text": [
      "view            0    1    2    3    4\n",
      "waterfront                           \n",
      "0           19489  331  955  491  184\n",
      "1               0    1    8   19  135\n"
     ]
    }
   ],
   "source": [
    "# 3 Постройте таблицу с подсчетом количества домов в данных в зависимости от вида на набережную waterfront и оценкой вида view и сохраните ее в view_waterfront.\n",
    "view_waterfront = pd.crosstab(index=df['waterfront'], columns=df['view'])\n",
    "print(view_waterfront)"
   ]
  },
  {
   "cell_type": "code",
   "execution_count": 79,
   "metadata": {},
   "outputs": [
    {
     "name": "stdout",
     "output_type": "stream",
     "text": [
      "bedrooms  0    1     2     3     4    5    6   7   8   9   10  11  33\n",
      "floors                                                               \n",
      "1.0        4  162  1951  5455  2383  605  104   9   5   0   1   0   1\n",
      "1.5        0   21   182   786   698  185   30   7   1   0   0   0   0\n",
      "2.0        6   12   497  3118  3682  775  119  19   6   4   2   1   0\n",
      "2.5        0    1     5    56    58   23   14   2   0   2   0   0   0\n",
      "3.0        2    3   123   405    61   13    5   1   0   0   0   0   0\n",
      "3.5        1    0     2     4     0    0    0   0   1   0   0   0   0\n"
     ]
    }
   ],
   "source": [
    "# 4 Каких домов в зависимости от этажности и количества спален больше? Постройте эту таблицу, содержащую в себе информацию о спальнях и этажности, и сохраните ее в bedrooms_floors.\n",
    "bedrooms_floors = pd.crosstab(index=df['floors'], columns=df['bedrooms'])\n",
    "print(bedrooms_floors)"
   ]
  },
  {
   "cell_type": "code",
   "execution_count": 92,
   "metadata": {},
   "outputs": [
    {
     "name": "stdout",
     "output_type": "stream",
     "text": [
      "grade            1         3         4         5         6         7   \\\n",
      "condition                                                               \n",
      "1          142000.0       0.0  150000.0  190000.0  255000.0  403500.0   \n",
      "2               0.0  280000.0  145000.0  180000.0  235000.0  305000.0   \n",
      "3               0.0   75000.0  205000.0  234475.0  265000.0  357500.0   \n",
      "4               0.0       0.0  238525.0  229975.0  295000.0  390000.0   \n",
      "5               0.0  262000.0       0.0  227450.0  285475.0  456000.0   \n",
      "\n",
      "grade            8          9          10         11         12         13  \n",
      "condition                                                                   \n",
      "1          932500.0        0.0        0.0        0.0        0.0        0.0  \n",
      "2          429000.0   715000.0  1752500.0        0.0        0.0        0.0  \n",
      "3          485000.0   689000.0   890000.0  1209500.0  1807500.0  2888000.0  \n",
      "4          571250.0   823500.0  1030000.0  1685000.0  2125000.0  5750000.0  \n",
      "5          696000.0  1078000.0  1650000.0  2050000.0  1990000.0        0.0  \n"
     ]
    }
   ],
   "source": [
    "# 5 Постройте таблицу с подсчетом медианной стоимости домов в данных в зависимости от состояния дома и оценки дома и сохраните в 'median_price'.\n",
    "median_price = df.pivot_table(index='condition', columns=['grade'], values='price', aggfunc='median', fill_value=0)\n",
    "print(median_price)"
   ]
  },
  {
   "cell_type": "code",
   "execution_count": null,
   "metadata": {},
   "outputs": [],
   "source": [
    "# решение автотеста\n",
    "import pandas as pd\n",
    "df = pd.read_csv('kc_house_data.csv', sep=',')\n",
    "\n",
    "# 1. Средняя стоимость домов в зависимости от количества спален (отсортирована от меньшей к большей)\n",
    "avg = df.groupby('bedrooms').agg({'price':'mean'}).sort_values('price')\n",
    "\n",
    "# 2. Минимальная, средняя и максимальная стоимости домов в зависимости от состояния дома\n",
    "price = df.groupby('condition').agg({'price':['min', 'mean', 'max']})\n",
    "\n",
    "# 3. Таблица с подсчетом количества домов в зависимости от видов на набережную и оценок вида\n",
    "view_waterfront = df.pivot_table(index='waterfront', columns='view', values='condition', aggfunc='count', fill_value=0)\n",
    "\n",
    "# 4. Таблица с подсчетом количества домов в зависимости от этажности и количества спален\n",
    "bedrooms_floors = pd.crosstab(index=df['floors'], columns=df['bedrooms'])\n",
    "\n",
    "# 5. Таблица с медианной стоимостью домов в зависимости от состояния дома и оценки дома\n",
    "median_price = df.pivot_table(index='condition', columns='grade', values='price', aggfunc='median', fill_value=0)\n",
    "\n"
   ]
  }
 ],
 "metadata": {
  "kernelspec": {
   "display_name": "Python 3",
   "language": "python",
   "name": "python3"
  },
  "language_info": {
   "codemirror_mode": {
    "name": "ipython",
    "version": 3
   },
   "file_extension": ".py",
   "mimetype": "text/x-python",
   "name": "python",
   "nbconvert_exporter": "python",
   "pygments_lexer": "ipython3",
   "version": "3.12.2"
  }
 },
 "nbformat": 4,
 "nbformat_minor": 2
}
